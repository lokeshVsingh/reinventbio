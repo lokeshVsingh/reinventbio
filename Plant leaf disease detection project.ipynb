{
 "cells": [
  {
   "cell_type": "code",
   "execution_count": 86,
   "metadata": {},
   "outputs": [],
   "source": [
    "import numpy as np\n",
    "import pickle\n",
    "import cv2\n",
    "import os\n",
    "import cv2 as cv\n",
    "from os import listdir\n",
    "from sklearn.preprocessing import LabelBinarizer\n",
    "from keras.models import Sequential\n",
    "from keras.layers.normalization import BatchNormalization\n",
    "from keras.layers.convolutional import Conv2D\n",
    "from keras.layers.convolutional import MaxPooling2D, AveragePooling2D\n",
    "from keras.layers.core import Activation, Flatten, Dropout, Dense\n",
    "from keras import backend as K\n",
    "from keras.preprocessing.image import ImageDataGenerator\n",
    "from keras.optimizers import Adam\n",
    "from keras.preprocessing import image\n",
    "from keras.preprocessing.image import img_to_array\n",
    "from sklearn.preprocessing import MultiLabelBinarizer\n",
    "from sklearn.model_selection import train_test_split\n",
    "import matplotlib.pyplot as plt"
   ]
  },
  {
   "cell_type": "markdown",
   "metadata": {},
   "source": [
    "# CNN MODEL"
   ]
  },
  {
   "cell_type": "code",
   "execution_count": 48,
   "metadata": {},
   "outputs": [],
   "source": [
    "EPOCHS=10\n",
    "INIT_LR=1e-05\n",
    "BS=32\n",
    "default_image_size=tuple((100,100))\n",
    "image_size=0\n",
    "\n",
    "\n",
    "directory_root=r\"F:\\DL projects\\Data sets\\Tomato leaf Data set\\New Plant Diseases Dataset(Augmented)\""
   ]
  },
  {
   "cell_type": "code",
   "execution_count": 49,
   "metadata": {},
   "outputs": [],
   "source": [
    "#converting images to arrays\n",
    "def convert_image_to_array(image_dir):\n",
    "    try:\n",
    "        image = cv2.imread(image_dir)\n",
    "        if image is not None :\n",
    "            image = cv2.resize(image, default_image_size)   \n",
    "            return img_to_array(image)\n",
    "        else :\n",
    "            return np.array([])\n",
    "    except Exception as e:\n",
    "        print(f\"Error : {e}\")\n",
    "        return None"
   ]
  },
  {
   "cell_type": "code",
   "execution_count": 50,
   "metadata": {},
   "outputs": [
    {
     "name": "stdout",
     "output_type": "stream",
     "text": [
      "[INFO] Loading images ...\n",
      "[INFO] Processing train ...\n",
      "[INFO] Processing valid ...\n",
      "[INFO] Processing Tomato bacterial spot ...\n",
      "[INFO] Processing Tomato early blight ...\n",
      "[INFO] Processing Tomato healthy ...\n",
      "[INFO] Processing Tomato late blight ...\n",
      "[INFO] Processing Tomato leaf mold ...\n",
      "[INFO] Processing Tomato septoria leaf spot ...\n",
      "[INFO] Processing Tomato spider mites Two spotted spider mite ...\n",
      "[INFO] Processing Tomato target spot ...\n",
      "[INFO] Processing Tomato tomato mosaic virus ...\n",
      "[INFO] Processing Tomato tomato yellow leaf curl virus ...\n",
      "[INFO] Processing Tomato bacterial spot ...\n",
      "[INFO] Processing Tomato early blight ...\n",
      "[INFO] Processing Tomato healthy ...\n",
      "[INFO] Processing Tomato late blight ...\n",
      "[INFO] Processing Tomato leaf mold ...\n",
      "[INFO] Processing Tomato septoria leaf spot ...\n",
      "[INFO] Processing Tomato spider mites Two spotted spider mite ...\n",
      "[INFO] Processing Tomato target spot ...\n",
      "[INFO] Processing Tomato tomato mosaic virus ...\n",
      "[INFO] Processing Tomato tomato yellow leaf curl virus ...\n",
      "[INFO] Image loading completed\n"
     ]
    }
   ],
   "source": [
    " #labelling images based on their category\n",
    "image_list, label_list = [], []\n",
    "try:\n",
    "    print(\"[INFO] Loading images ...\")\n",
    "    root_dir = listdir(directory_root)\n",
    "    for directory in root_dir :\n",
    "        # remove .DS_Store from list\n",
    "        if directory == \".DS_Store\" :\n",
    "            root_dir.remove(directory)\n",
    "\n",
    "    for plant_folder in root_dir :\n",
    "        plant_disease_folder_list = listdir(f\"{directory_root}/{plant_folder}\")\n",
    "        \n",
    "        for disease_folder in plant_disease_folder_list :\n",
    "            # remove .DS_Store from list\n",
    "            if disease_folder == \".DS_Store\" :\n",
    "                plant_disease_folder_list.remove(disease_folder)\n",
    "\n",
    "        for plant_disease_folder in plant_disease_folder_list:\n",
    "            print(f\"[INFO] Processing {plant_disease_folder} ...\")\n",
    "            plant_disease_image_list = listdir(f\"{directory_root}/{plant_folder}/{plant_disease_folder}/\")\n",
    "                \n",
    "            for single_plant_disease_image in plant_disease_image_list :\n",
    "                if single_plant_disease_image == \".DS_Store\" :\n",
    "                    plant_disease_image_list.remove(single_plant_disease_image)\n",
    "\n",
    "            for image in plant_disease_image_list[:200]:\n",
    "                image_directory = f\"{directory_root}/{plant_folder}/{plant_disease_folder}/{image}\"\n",
    "                if image_directory.endswith(\".jpg\") == True or image_directory.endswith(\".JPG\") == True:\n",
    "                    image_list.append(convert_image_to_array(image_directory))\n",
    "                    label_list.append(plant_disease_folder)\n",
    "    print(\"[INFO] Image loading completed\")  \n",
    "except Exception as e:\n",
    "    print(f\"Error : {e}\")"
   ]
  },
  {
   "cell_type": "code",
   "execution_count": 51,
   "metadata": {},
   "outputs": [],
   "source": [
    "#one hot encoding\n",
    "label_binarizer = LabelBinarizer() \n",
    "image_labels = label_binarizer.fit_transform(label_list)\n",
    "pickle.dump(label_binarizer,open('label_transform.pkl', 'wb'))\n",
    "n_classes = len(label_binarizer.classes_)"
   ]
  },
  {
   "cell_type": "code",
   "execution_count": 53,
   "metadata": {},
   "outputs": [],
   "source": [
    "#scaling\n",
    "image_list = np.array(image_list, dtype=np.float16)/255.0 "
   ]
  },
  {
   "cell_type": "code",
   "execution_count": 54,
   "metadata": {},
   "outputs": [
    {
     "name": "stdout",
     "output_type": "stream",
     "text": [
      "[INFO] Spliting data to train, test\n"
     ]
    }
   ],
   "source": [
    "print(\"[INFO] Spliting data to train, test\")\n",
    "x_train, x_test, y_train, y_test = train_test_split(image_list, image_labels, test_size=0.2, random_state = 42)"
   ]
  },
  {
   "cell_type": "code",
   "execution_count": 55,
   "metadata": {},
   "outputs": [],
   "source": [
    "#Data augmentation\n",
    "dataaug = ImageDataGenerator(\n",
    "    rotation_range=25, width_shift_range=0.1,\n",
    "    height_shift_range=0.1, shear_range=0.2, \n",
    "    zoom_range=0.2,horizontal_flip=True, \n",
    "    fill_mode=\"nearest\")"
   ]
  },
  {
   "cell_type": "code",
   "execution_count": 56,
   "metadata": {},
   "outputs": [],
   "source": [
    "#model structure\n",
    "model = Sequential()\n",
    "\n",
    "model.add(Conv2D(32, (3, 3), padding=\"same\",input_shape=(100,100,3)))\n",
    "model.add(Activation(\"relu\"))\n",
    "model.add(BatchNormalization())\n",
    "model.add(MaxPooling2D(pool_size=(3, 3)))\n",
    "model.add(Dropout(0.25))\n",
    "model.add(Conv2D(64, (3, 3), padding=\"same\"))\n",
    "model.add(Activation(\"relu\"))\n",
    "model.add(BatchNormalization())\n",
    "model.add(Conv2D(64, (3, 3), padding=\"same\"))\n",
    "model.add(Activation(\"relu\"))\n",
    "model.add(BatchNormalization())\n",
    "model.add(MaxPooling2D(pool_size=(2, 2)))\n",
    "model.add(Dropout(0.25))\n",
    "model.add(Conv2D(128, (3, 3), padding=\"same\"))\n",
    "model.add(Activation(\"relu\"))\n",
    "model.add(BatchNormalization())\n",
    "model.add(Conv2D(128, (3, 3), padding=\"same\"))\n",
    "model.add(Activation(\"relu\"))\n",
    "model.add(BatchNormalization())\n",
    "model.add(MaxPooling2D(pool_size=(2, 2)))\n",
    "model.add(Dropout(0.25))\n",
    "model.add(Flatten())\n",
    "model.add(Dense(1024))\n",
    "model.add(Activation(\"relu\"))\n",
    "model.add(BatchNormalization())\n",
    "model.add(Dropout(0.5))\n",
    "model.add(Dense(10))\n",
    "model.add(Activation(\"softmax\"))"
   ]
  },
  {
   "cell_type": "code",
   "execution_count": 57,
   "metadata": {},
   "outputs": [
    {
     "name": "stdout",
     "output_type": "stream",
     "text": [
      "Model: \"sequential_4\"\n",
      "_________________________________________________________________\n",
      "Layer (type)                 Output Shape              Param #   \n",
      "=================================================================\n",
      "conv2d_17 (Conv2D)           (None, 100, 100, 32)      896       \n",
      "_________________________________________________________________\n",
      "activation_26 (Activation)   (None, 100, 100, 32)      0         \n",
      "_________________________________________________________________\n",
      "batch_normalization_24 (Batc (None, 100, 100, 32)      128       \n",
      "_________________________________________________________________\n",
      "max_pooling2d_9 (MaxPooling2 (None, 33, 33, 32)        0         \n",
      "_________________________________________________________________\n",
      "dropout_10 (Dropout)         (None, 33, 33, 32)        0         \n",
      "_________________________________________________________________\n",
      "conv2d_18 (Conv2D)           (None, 33, 33, 64)        18496     \n",
      "_________________________________________________________________\n",
      "activation_27 (Activation)   (None, 33, 33, 64)        0         \n",
      "_________________________________________________________________\n",
      "batch_normalization_25 (Batc (None, 33, 33, 64)        256       \n",
      "_________________________________________________________________\n",
      "conv2d_19 (Conv2D)           (None, 33, 33, 64)        36928     \n",
      "_________________________________________________________________\n",
      "activation_28 (Activation)   (None, 33, 33, 64)        0         \n",
      "_________________________________________________________________\n",
      "batch_normalization_26 (Batc (None, 33, 33, 64)        256       \n",
      "_________________________________________________________________\n",
      "max_pooling2d_10 (MaxPooling (None, 16, 16, 64)        0         \n",
      "_________________________________________________________________\n",
      "dropout_11 (Dropout)         (None, 16, 16, 64)        0         \n",
      "_________________________________________________________________\n",
      "conv2d_20 (Conv2D)           (None, 16, 16, 128)       73856     \n",
      "_________________________________________________________________\n",
      "activation_29 (Activation)   (None, 16, 16, 128)       0         \n",
      "_________________________________________________________________\n",
      "batch_normalization_27 (Batc (None, 16, 16, 128)       512       \n",
      "_________________________________________________________________\n",
      "conv2d_21 (Conv2D)           (None, 16, 16, 128)       147584    \n",
      "_________________________________________________________________\n",
      "activation_30 (Activation)   (None, 16, 16, 128)       0         \n",
      "_________________________________________________________________\n",
      "batch_normalization_28 (Batc (None, 16, 16, 128)       512       \n",
      "_________________________________________________________________\n",
      "max_pooling2d_11 (MaxPooling (None, 8, 8, 128)         0         \n",
      "_________________________________________________________________\n",
      "dropout_12 (Dropout)         (None, 8, 8, 128)         0         \n",
      "_________________________________________________________________\n",
      "flatten_4 (Flatten)          (None, 8192)              0         \n",
      "_________________________________________________________________\n",
      "dense_13 (Dense)             (None, 1024)              8389632   \n",
      "_________________________________________________________________\n",
      "activation_31 (Activation)   (None, 1024)              0         \n",
      "_________________________________________________________________\n",
      "batch_normalization_29 (Batc (None, 1024)              4096      \n",
      "_________________________________________________________________\n",
      "dropout_13 (Dropout)         (None, 1024)              0         \n",
      "_________________________________________________________________\n",
      "dense_14 (Dense)             (None, 10)                10250     \n",
      "_________________________________________________________________\n",
      "activation_32 (Activation)   (None, 10)                0         \n",
      "=================================================================\n",
      "Total params: 8,683,402\n",
      "Trainable params: 8,680,522\n",
      "Non-trainable params: 2,880\n",
      "_________________________________________________________________\n"
     ]
    }
   ],
   "source": [
    "model.summary()"
   ]
  },
  {
   "cell_type": "code",
   "execution_count": 58,
   "metadata": {},
   "outputs": [
    {
     "name": "stdout",
     "output_type": "stream",
     "text": [
      "[INFO] training network...\n"
     ]
    }
   ],
   "source": [
    "#model compile\n",
    "opt = Adam(lr=INIT_LR, decay=INIT_LR / EPOCHS)\n",
    "# distribution\n",
    "model.compile(loss=\"binary_crossentropy\", optimizer=opt,metrics=[\"accuracy\"])\n",
    "# train the network\n",
    "print(\"[INFO] training network...\")"
   ]
  },
  {
   "cell_type": "code",
   "execution_count": 66,
   "metadata": {},
   "outputs": [
    {
     "name": "stdout",
     "output_type": "stream",
     "text": [
      "Epoch 1/15\n",
      "100/100 [==============================] - 87s 875ms/step - loss: 0.1093 - accuracy: 0.7944 - val_loss: 0.5269 - val_accuracy: 0.4975\n",
      "Epoch 2/15\n",
      "100/100 [==============================] - 90s 897ms/step - loss: 0.1101 - accuracy: 0.7916 - val_loss: 0.5185 - val_accuracy: 0.4938\n",
      "Epoch 3/15\n",
      "100/100 [==============================] - 89s 890ms/step - loss: 0.1084 - accuracy: 0.7875 - val_loss: 0.4214 - val_accuracy: 0.5325\n",
      "Epoch 4/15\n",
      "100/100 [==============================] - 88s 875ms/step - loss: 0.1100 - accuracy: 0.7884 - val_loss: 0.4942 - val_accuracy: 0.4988\n",
      "Epoch 5/15\n",
      "100/100 [==============================] - 86s 861ms/step - loss: 0.1046 - accuracy: 0.7919 - val_loss: 0.4613 - val_accuracy: 0.5113\n",
      "Epoch 6/15\n",
      "100/100 [==============================] - 90s 897ms/step - loss: 0.1052 - accuracy: 0.7950 - val_loss: 0.5057 - val_accuracy: 0.5013\n",
      "Epoch 7/15\n",
      "100/100 [==============================] - 90s 901ms/step - loss: 0.0990 - accuracy: 0.8016 - val_loss: 0.5349 - val_accuracy: 0.4812\n",
      "Epoch 8/15\n",
      "100/100 [==============================] - 88s 882ms/step - loss: 0.1032 - accuracy: 0.8041 - val_loss: 0.5132 - val_accuracy: 0.4988\n",
      "Epoch 9/15\n",
      "100/100 [==============================] - 92s 924ms/step - loss: 0.1029 - accuracy: 0.8097 - val_loss: 0.5949 - val_accuracy: 0.4625\n",
      "Epoch 10/15\n",
      "100/100 [==============================] - 89s 891ms/step - loss: 0.1021 - accuracy: 0.8062 - val_loss: 0.5531 - val_accuracy: 0.4875\n",
      "Epoch 11/15\n",
      "100/100 [==============================] - 89s 893ms/step - loss: 0.1055 - accuracy: 0.7947 - val_loss: 0.4585 - val_accuracy: 0.5263\n",
      "Epoch 12/15\n",
      "100/100 [==============================] - 91s 909ms/step - loss: 0.1012 - accuracy: 0.8081 - val_loss: 0.5042 - val_accuracy: 0.5038\n",
      "Epoch 13/15\n",
      "100/100 [==============================] - 91s 914ms/step - loss: 0.1012 - accuracy: 0.8031 - val_loss: 0.4981 - val_accuracy: 0.5175\n",
      "Epoch 14/15\n",
      "100/100 [==============================] - 89s 892ms/step - loss: 0.0987 - accuracy: 0.8084 - val_loss: 0.4527 - val_accuracy: 0.5412\n",
      "Epoch 15/15\n",
      "100/100 [==============================] - 89s 890ms/step - loss: 0.0988 - accuracy: 0.8091 - val_loss: 0.4527 - val_accuracy: 0.5425\n"
     ]
    }
   ],
   "source": [
    "#fit train and test data in model\n",
    "hist1 = model.fit_generator(\n",
    "    dataaug.flow(x_train, y_train, batch_size=BS),\n",
    "    validation_data=(x_test, y_test),\n",
    "    steps_per_epoch=len(x_train) // BS,\n",
    "    epochs=15, verbose=1\n",
    "    )"
   ]
  },
  {
   "cell_type": "code",
   "execution_count": 67,
   "metadata": {},
   "outputs": [
    {
     "data": {
      "image/png": "[encoded data removed]",
      "text/plain": [
       "<Figure size 432x288 with 1 Axes>"
      ]
     },
     "metadata": {
      "needs_background": "light"
     },
     "output_type": "display_data"
    },
    {
     "data": {
      "image/png": "[encoded data removed]",
      "text/plain": [
       "<Figure size 432x288 with 1 Axes>"
      ]
     },
     "metadata": {
      "needs_background": "light"
     },
     "output_type": "display_data"
    },
    {
     "data": {
      "text/plain": [
       "<Figure size 432x288 with 0 Axes>"
      ]
     },
     "metadata": {},
     "output_type": "display_data"
    }
   ],
   "source": [
    "#plots of loss and accuracy\n",
    "plt.plot(hist1.history['loss'], label='train loss')\n",
    "plt.plot(hist1.history['val_loss'], label='val loss')\n",
    "plt.legend()\n",
    "plt.show()\n",
    "plt.savefig('LossVal_loss')\n",
    "\n",
    "# plot the accuracy\n",
    "plt.plot(hist1.history['accuracy'], label='train acc')\n",
    "plt.plot(hist1.history['val_accuracy'], label='val acc')\n",
    "plt.legend()\n",
    "plt.show()\n",
    "plt.savefig('AccVal_acc')"
   ]
  },
  {
   "cell_type": "code",
   "execution_count": 68,
   "metadata": {},
   "outputs": [
    {
     "name": "stdout",
     "output_type": "stream",
     "text": [
      "INFO:tensorflow:Assets written to: MODEL1.h1\\assets\n"
     ]
    }
   ],
   "source": [
    "model.save('MODEL1.h1')"
   ]
  },
  {
   "cell_type": "markdown",
   "metadata": {},
   "source": [
    "# ALEXNET MODEL"
   ]
  },
  {
   "cell_type": "code",
   "execution_count": 23,
   "metadata": {},
   "outputs": [
    {
     "name": "stdout",
     "output_type": "stream",
     "text": [
      "Model: \"sequential_2\"\n",
      "_________________________________________________________________\n",
      "Layer (type)                 Output Shape              Param #   \n",
      "=================================================================\n",
      "conv2d_7 (Conv2D)            (None, 25, 25, 96)        34944     \n",
      "_________________________________________________________________\n",
      "batch_normalization_9 (Batch (None, 25, 25, 96)        384       \n",
      "_________________________________________________________________\n",
      "activation_10 (Activation)   (None, 25, 25, 96)        0         \n",
      "_________________________________________________________________\n",
      "max_pooling2d_3 (MaxPooling2 (None, 13, 13, 96)        0         \n",
      "_________________________________________________________________\n",
      "conv2d_8 (Conv2D)            (None, 13, 13, 256)       614656    \n",
      "_________________________________________________________________\n",
      "batch_normalization_10 (Batc (None, 13, 13, 256)       1024      \n",
      "_________________________________________________________________\n",
      "activation_11 (Activation)   (None, 13, 13, 256)       0         \n",
      "_________________________________________________________________\n",
      "max_pooling2d_4 (MaxPooling2 (None, 7, 7, 256)         0         \n",
      "_________________________________________________________________\n",
      "conv2d_9 (Conv2D)            (None, 7, 7, 384)         885120    \n",
      "_________________________________________________________________\n",
      "batch_normalization_11 (Batc (None, 7, 7, 384)         1536      \n",
      "_________________________________________________________________\n",
      "activation_12 (Activation)   (None, 7, 7, 384)         0         \n",
      "_________________________________________________________________\n",
      "conv2d_10 (Conv2D)           (None, 7, 7, 384)         1327488   \n",
      "_________________________________________________________________\n",
      "batch_normalization_12 (Batc (None, 7, 7, 384)         1536      \n",
      "_________________________________________________________________\n",
      "activation_13 (Activation)   (None, 7, 7, 384)         0         \n",
      "_________________________________________________________________\n",
      "conv2d_11 (Conv2D)           (None, 7, 7, 256)         884992    \n",
      "_________________________________________________________________\n",
      "batch_normalization_13 (Batc (None, 7, 7, 256)         1024      \n",
      "_________________________________________________________________\n",
      "activation_14 (Activation)   (None, 7, 7, 256)         0         \n",
      "_________________________________________________________________\n",
      "max_pooling2d_5 (MaxPooling2 (None, 4, 4, 256)         0         \n",
      "_________________________________________________________________\n",
      "flatten_2 (Flatten)          (None, 4096)              0         \n",
      "_________________________________________________________________\n",
      "dense_7 (Dense)              (None, 4096)              16781312  \n",
      "_________________________________________________________________\n",
      "batch_normalization_14 (Batc (None, 4096)              16384     \n",
      "_________________________________________________________________\n",
      "activation_15 (Activation)   (None, 4096)              0         \n",
      "_________________________________________________________________\n",
      "dropout_3 (Dropout)          (None, 4096)              0         \n",
      "_________________________________________________________________\n",
      "dense_8 (Dense)              (None, 4096)              16781312  \n",
      "_________________________________________________________________\n",
      "batch_normalization_15 (Batc (None, 4096)              16384     \n",
      "_________________________________________________________________\n",
      "activation_16 (Activation)   (None, 4096)              0         \n",
      "_________________________________________________________________\n",
      "dropout_4 (Dropout)          (None, 4096)              0         \n",
      "_________________________________________________________________\n",
      "dense_9 (Dense)              (None, 1000)              4097000   \n",
      "_________________________________________________________________\n",
      "batch_normalization_16 (Batc (None, 1000)              4000      \n",
      "_________________________________________________________________\n",
      "activation_17 (Activation)   (None, 1000)              0         \n",
      "_________________________________________________________________\n",
      "dropout_5 (Dropout)          (None, 1000)              0         \n",
      "_________________________________________________________________\n",
      "dense_10 (Dense)             (None, 10)                10010     \n",
      "_________________________________________________________________\n",
      "batch_normalization_17 (Batc (None, 10)                40        \n",
      "_________________________________________________________________\n",
      "activation_18 (Activation)   (None, 10)                0         \n",
      "=================================================================\n",
      "Total params: 41,459,146\n",
      "Trainable params: 41,437,990\n",
      "Non-trainable params: 21,156\n",
      "_________________________________________________________________\n"
     ]
    }
   ],
   "source": [
    "AlexNet = Sequential()\n",
    "\n",
    "#1st Convolutional Layer\n",
    "AlexNet.add(Conv2D(filters=96, input_shape=(100,100,3), kernel_size=(11,11), strides=(4,4), padding='same'))\n",
    "AlexNet.add(BatchNormalization())\n",
    "AlexNet.add(Activation('relu'))\n",
    "AlexNet.add(MaxPooling2D(pool_size=(2,2), strides=(2,2), padding='same'))\n",
    "\n",
    "#2nd Convolutional Layer\n",
    "AlexNet.add(Conv2D(filters=256, kernel_size=(5, 5), strides=(1,1), padding='same'))\n",
    "AlexNet.add(BatchNormalization())\n",
    "AlexNet.add(Activation('relu'))\n",
    "AlexNet.add(MaxPooling2D(pool_size=(2,2), strides=(2,2), padding='same'))\n",
    "\n",
    "#3rd Convolutional Layer\n",
    "AlexNet.add(Conv2D(filters=384, kernel_size=(3,3), strides=(1,1), padding='same'))\n",
    "AlexNet.add(BatchNormalization())\n",
    "AlexNet.add(Activation('relu'))\n",
    "\n",
    "#4th Convolutional Layer\n",
    "AlexNet.add(Conv2D(filters=384, kernel_size=(3,3), strides=(1,1), padding='same'))\n",
    "AlexNet.add(BatchNormalization())\n",
    "AlexNet.add(Activation('relu'))\n",
    "\n",
    "#5th Convolutional Layer\n",
    "AlexNet.add(Conv2D(filters=256, kernel_size=(3,3), strides=(1,1), padding='same'))\n",
    "AlexNet.add(BatchNormalization())\n",
    "AlexNet.add(Activation('relu'))\n",
    "AlexNet.add(MaxPooling2D(pool_size=(2,2), strides=(2,2), padding='same'))\n",
    "\n",
    "#Passing it to a Fully Connected layer\n",
    "AlexNet.add(Flatten())\n",
    "# 1st Fully Connected Layer\n",
    "AlexNet.add(Dense(4096, input_shape=(32,32,3,)))\n",
    "AlexNet.add(BatchNormalization())\n",
    "AlexNet.add(Activation('relu'))\n",
    "# Add Dropout to prevent overfitting\n",
    "AlexNet.add(Dropout(0.4))\n",
    "\n",
    "#2nd Fully Connected Layer\n",
    "AlexNet.add(Dense(4096))\n",
    "AlexNet.add(BatchNormalization())\n",
    "AlexNet.add(Activation('relu'))\n",
    "#Add Dropout\n",
    "AlexNet.add(Dropout(0.4))\n",
    "\n",
    "#3rd Fully Connected Layer\n",
    "AlexNet.add(Dense(1000))\n",
    "AlexNet.add(BatchNormalization())\n",
    "AlexNet.add(Activation('relu'))\n",
    "#Add Dropout\n",
    "AlexNet.add(Dropout(0.4))\n",
    "\n",
    "#Output Layer\n",
    "AlexNet.add(Dense(10))\n",
    "AlexNet.add(BatchNormalization())\n",
    "AlexNet.add(Activation('softmax'))\n",
    "\n",
    "#Model Summary\n",
    "AlexNet.summary()"
   ]
  },
  {
   "cell_type": "code",
   "execution_count": 74,
   "metadata": {},
   "outputs": [
    {
     "name": "stdout",
     "output_type": "stream",
     "text": [
      "Found 18345 images belonging to 10 classes.\n",
      "Found 4585 images belonging to 10 classes.\n"
     ]
    }
   ],
   "source": [
    "BS=64\n",
    "train_generator=datagen.flow_from_directory(r\"F:\\DL projects\\Data sets\\Tomato leaf Data set\\New Plant Diseases Dataset(Augmented)\\train\",\n",
    "target_size=(img_size,img_size),\n",
    "batch_size=BS,\n",
    "class_mode='categorical',\n",
    "shuffle=True)\n",
    "\n",
    "\n",
    "validation_generator=datagen.flow_from_directory( r\"F:\\DL projects\\Data sets\\Tomato leaf Data set\\New Plant Diseases Dataset(Augmented)\\valid\",\n",
    "target_size=(img_size,img_size),\n",
    "batch_size=BS,\n",
    "class_mode='categorical',\n",
    "shuffle=True)"
   ]
  },
  {
   "cell_type": "code",
   "execution_count": 24,
   "metadata": {},
   "outputs": [
    {
     "name": "stdout",
     "output_type": "stream",
     "text": [
      "[INFO] training network...\n"
     ]
    }
   ],
   "source": [
    "opt = Adam(lr=INIT_LR, decay=INIT_LR / EPOCHS)\n",
    "# distribution\n",
    "AlexNet.compile(loss=\"categorical_crossentropy\", optimizer=opt,metrics=[\"accuracy\"])\n",
    "# train the network\n",
    "print(\"[INFO] training network...\")"
   ]
  },
  {
   "cell_type": "code",
   "execution_count": 16,
   "metadata": {},
   "outputs": [
    {
     "name": "stdout",
     "output_type": "stream",
     "text": [
      "Epoch 1/12\n",
      "286/286 [==============================] - 586s 2s/step - loss: 1.1474 - accuracy: 0.6844 - val_loss: 0.9340 - val_accuracy: 0.7522\n",
      "Epoch 2/12\n",
      "286/286 [==============================] - 592s 2s/step - loss: 1.0599 - accuracy: 0.7229 - val_loss: 0.8474 - val_accuracy: 0.7978\n",
      "Epoch 3/12\n",
      "286/286 [==============================] - 585s 2s/step - loss: 0.9894 - accuracy: 0.7502 - val_loss: 0.8179 - val_accuracy: 0.8055\n",
      "Epoch 4/12\n",
      "286/286 [==============================] - 589s 2s/step - loss: 0.9358 - accuracy: 0.7741 - val_loss: 0.7426 - val_accuracy: 0.8360\n",
      "Epoch 5/12\n",
      "286/286 [==============================] - 577s 2s/step - loss: 0.8828 - accuracy: 0.7994 - val_loss: 0.7049 - val_accuracy: 0.8457\n",
      "Epoch 6/12\n",
      "286/286 [==============================] - 585s 2s/step - loss: 0.8455 - accuracy: 0.8139 - val_loss: 0.7176 - val_accuracy: 0.8290\n",
      "Epoch 7/12\n",
      "286/286 [==============================] - 582s 2s/step - loss: 0.8129 - accuracy: 0.8224 - val_loss: 0.6158 - val_accuracy: 0.8653\n",
      "Epoch 8/12\n",
      "286/286 [==============================] - 581s 2s/step - loss: 0.7762 - accuracy: 0.8395 - val_loss: 0.6471 - val_accuracy: 0.8567\n",
      "Epoch 9/12\n",
      "286/286 [==============================] - 595s 2s/step - loss: 0.7447 - accuracy: 0.8530 - val_loss: 0.6258 - val_accuracy: 0.8620\n",
      "Epoch 10/12\n",
      "286/286 [==============================] - 612s 2s/step - loss: 0.7264 - accuracy: 0.8579 - val_loss: 0.5527 - val_accuracy: 0.8871\n",
      "Epoch 11/12\n",
      "286/286 [==============================] - 1023s 4s/step - loss: 0.6985 - accuracy: 0.8679 - val_loss: 0.5256 - val_accuracy: 0.9027\n",
      "Epoch 12/12\n",
      "286/286 [==============================] - 660s 2s/step - loss: 0.6795 - accuracy: 0.8733 - val_loss: 0.4922 - val_accuracy: 0.9065\n"
     ]
    }
   ],
   "source": [
    "ephocs=5\n",
    "steps_per_epoch=train_generator.n//train_generator.batch_size\n",
    "steps_per_epoch\n",
    "validation_steps=validation_generator.n//validation_generator.batch_size\n",
    "validation_steps\n",
    "hist2=AlexNet.fit(x=train_generator,\n",
    "                    steps_per_epoch=steps_per_epoch,\n",
    "                    epochs=ephocs,\n",
    "                    validation_data=validation_generator,\n",
    "                    validation_steps=validation_steps)"
   ]
  },
  {
   "cell_type": "code",
   "execution_count": 17,
   "metadata": {},
   "outputs": [
    {
     "name": "stdout",
     "output_type": "stream",
     "text": [
      "WARNING:tensorflow:From C:\\Users\\lenovo\\anaconda3\\lib\\site-packages\\tensorflow\\python\\training\\tracking\\tracking.py:111: Model.state_updates (from tensorflow.python.keras.engine.training) is deprecated and will be removed in a future version.\n",
      "Instructions for updating:\n",
      "This property should not be used in TensorFlow 2.0, as updates are applied automatically.\n",
      "WARNING:tensorflow:From C:\\Users\\lenovo\\anaconda3\\lib\\site-packages\\tensorflow\\python\\training\\tracking\\tracking.py:111: Layer.updates (from tensorflow.python.keras.engine.base_layer) is deprecated and will be removed in a future version.\n",
      "Instructions for updating:\n",
      "This property should not be used in TensorFlow 2.0, as updates are applied automatically.\n",
      "INFO:tensorflow:Assets written to: MODEL2.h1\\assets\n"
     ]
    }
   ],
   "source": [
    "AlexNet.save('MODEL2.h1')"
   ]
  },
  {
   "cell_type": "code",
   "execution_count": 29,
   "metadata": {},
   "outputs": [
    {
     "data": {
      "image/png": "[encoded data removed]",
      "text/plain": [
       "<Figure size 432x288 with 1 Axes>"
      ]
     },
     "metadata": {
      "needs_background": "light"
     },
     "output_type": "display_data"
    },
    {
     "data": {
      "image/png": "[encoded data removed]",
      "text/plain": [
       "<Figure size 432x288 with 1 Axes>"
      ]
     },
     "metadata": {
      "needs_background": "light"
     },
     "output_type": "display_data"
    },
    {
     "data": {
      "text/plain": [
       "<Figure size 432x288 with 0 Axes>"
      ]
     },
     "metadata": {},
     "output_type": "display_data"
    }
   ],
   "source": [
    "plt.plot(hist2.history['loss'], label='train loss')\n",
    "plt.plot(hist2.history['val_loss'], label='val loss')\n",
    "plt.legend()\n",
    "plt.show()\n",
    "plt.savefig('LossVal_loss')\n",
    "\n",
    "# plot the accuracy\n",
    "plt.plot(hist2.history['accuracy'], label='train acc')\n",
    "plt.plot(hist2.history['val_accuracy'], label='val acc')\n",
    "plt.legend()\n",
    "plt.show()\n",
    "plt.savefig('AccVal_acc')"
   ]
  },
  {
   "cell_type": "code",
   "execution_count": 75,
   "metadata": {},
   "outputs": [],
   "source": [
    "train=r\"F:\\DL projects\\Data sets\\Tomato leaf Data set\\New Plant Diseases Dataset(Augmented)\\train\"\n",
    "valid=r\"F:\\DL projects\\Data sets\\Tomato leaf Data set\\New Plant Diseases Dataset(Augmented)\\valid\"\n",
    "CATEGORIES=['Tomato bacterial spot', 'Tomato early blight', 'Tomato healthy', 'Tomato late blight', 'Tomato leaf mold', 'Tomato septoria leaf spot', 'Tomato spider mites two spotted spider mite', 'Tomato target spot', 'Tomato tomato mosaic virus', 'Tomato tomato yellow leaf curl virus']"
   ]
  },
  {
   "cell_type": "code",
   "execution_count": 70,
   "metadata": {},
   "outputs": [
    {
     "data": {
      "text/plain": [
       "'Tomato tomato mosaic virus'"
      ]
     },
     "execution_count": 70,
     "metadata": {},
     "output_type": "execute_result"
    }
   ],
   "source": [
    "#checking predictions\n",
    "from tensorflow.keras.models import load_model\n",
    "model1=load_model('MODEL1.h1')\n",
    "from tensorflow.keras.applications.resnet50 import preprocess_input\n",
    "from tensorflow.keras.preprocessing import image\n",
    "import cv2\n",
    "test_img=image.load_img(r\"F:\\DL projects\\Data sets\\Tomato leaf Data set\\New Plant Diseases Dataset(Augmented)\\train\\Tomato tomato mosaic virus\\i (3).JPG\",target_size=(100,100))\n",
    "test_img=image.img_to_array(test_img)\n",
    "test_img=np.expand_dims(test_img,axis=0)\n",
    "result1=model1.predict(test_img)\n",
    "pred1=result1.argmax()\n",
    "\n",
    "\n",
    "CATEGORIES[pred1]"
   ]
  },
  {
   "cell_type": "markdown",
   "metadata": {},
   "source": [
    "# LENET MODEL"
   ]
  },
  {
   "cell_type": "code",
   "execution_count": 4,
   "metadata": {},
   "outputs": [],
   "source": [
    "LeNet=Sequential()\n",
    "\n",
    "LeNet.add(Conv2D(6, kernel_size=(3,3), input_shape=(100,100,3), activation='relu'))\n",
    "LeNet.add(AveragePooling2D())\n",
    "\n",
    "LeNet.add(Conv2D(16, kernel_size=(3,3),activation='relu'))\n",
    "LeNet.add(AveragePooling2D())\n",
    "\n",
    "#LeNet.add(Conv2D(80, kernel_size=(5,5), activation='relu', padding='valid'))\n",
    "#LeNet.add(MaxPooling2D(pool_size=(2,2)))\n",
    "#LeNet.add(Dropout(0.2))\n",
    "\n",
    "LeNet.add(Flatten())\n",
    "LeNet.add(Dense(120,activation='relu'))\n",
    "LeNet.add(Dense(84,activation='relu'))\n",
    "\n",
    "LeNet.add(Dense(10))\n",
    "LeNet.add(Activation(\"softmax\"))"
   ]
  },
  {
   "cell_type": "code",
   "execution_count": 5,
   "metadata": {},
   "outputs": [
    {
     "name": "stdout",
     "output_type": "stream",
     "text": [
      "Model: \"sequential\"\n",
      "_________________________________________________________________\n",
      "Layer (type)                 Output Shape              Param #   \n",
      "=================================================================\n",
      "conv2d (Conv2D)              (None, 98, 98, 6)         168       \n",
      "_________________________________________________________________\n",
      "average_pooling2d (AveragePo (None, 49, 49, 6)         0         \n",
      "_________________________________________________________________\n",
      "conv2d_1 (Conv2D)            (None, 47, 47, 16)        880       \n",
      "_________________________________________________________________\n",
      "average_pooling2d_1 (Average (None, 23, 23, 16)        0         \n",
      "_________________________________________________________________\n",
      "flatten (Flatten)            (None, 8464)              0         \n",
      "_________________________________________________________________\n",
      "dense (Dense)                (None, 120)               1015800   \n",
      "_________________________________________________________________\n",
      "dense_1 (Dense)              (None, 84)                10164     \n",
      "_________________________________________________________________\n",
      "dense_2 (Dense)              (None, 10)                850       \n",
      "_________________________________________________________________\n",
      "activation (Activation)      (None, 10)                0         \n",
      "=================================================================\n",
      "Total params: 1,027,862\n",
      "Trainable params: 1,027,862\n",
      "Non-trainable params: 0\n",
      "_________________________________________________________________\n"
     ]
    }
   ],
   "source": [
    "LeNet.summary()"
   ]
  },
  {
   "cell_type": "code",
   "execution_count": 7,
   "metadata": {},
   "outputs": [],
   "source": [
    "LeNet.compile(loss=\"categorical_crossentropy\",optimizer=\"Adam\", metrics=[\"accuracy\"])"
   ]
  },
  {
   "cell_type": "code",
   "execution_count": 8,
   "metadata": {},
   "outputs": [],
   "source": [
    "#data-augmentation\n",
    "datagen = ImageDataGenerator(\n",
    "        featurewise_center=False,\n",
    "        samplewise_center=False,\n",
    "        featurewise_std_normalization=False,\n",
    "        samplewise_std_normalization=False, \n",
    "        zca_whitening=False,\n",
    "        rotation_range=20, \n",
    "        width_shift_range=0.1,\n",
    "        height_shift_range=0.1,\n",
    "        horizontal_flip=True, \n",
    "        vertical_flip=False)"
   ]
  },
  {
   "cell_type": "code",
   "execution_count": null,
   "metadata": {},
   "outputs": [],
   "source": []
  },
  {
   "cell_type": "code",
   "execution_count": 19,
   "metadata": {},
   "outputs": [
    {
     "name": "stdout",
     "output_type": "stream",
     "text": [
      "Epoch 1/5\n",
      "286/286 [==============================] - 439s 2s/step - loss: 0.3839 - accuracy: 0.8666 - val_loss: 0.3543 - val_accuracy: 0.8772\n",
      "Epoch 2/5\n",
      "286/286 [==============================] - 201s 703ms/step - loss: 0.3951 - accuracy: 0.8664 - val_loss: 0.3867 - val_accuracy: 0.8699\n",
      "Epoch 3/5\n",
      "286/286 [==============================] - 172s 600ms/step - loss: 0.3566 - accuracy: 0.8788 - val_loss: 0.3771 - val_accuracy: 0.8675\n",
      "Epoch 4/5\n",
      "286/286 [==============================] - 140s 491ms/step - loss: 0.3524 - accuracy: 0.8762 - val_loss: 0.3047 - val_accuracy: 0.8893\n",
      "Epoch 5/5\n",
      "286/286 [==============================] - 149s 520ms/step - loss: 0.3445 - accuracy: 0.8818 - val_loss: 0.3404 - val_accuracy: 0.8889\n"
     ]
    }
   ],
   "source": [
    "epochs=5\n",
    "steps_per_epoch=train_generator.n//train_generator.batch_size\n",
    "steps_per_epoch\n",
    "validation_steps=validation_generator.n//validation_generator.batch_size\n",
    "validation_steps\n",
    "hist3=LeNet.fit(datagen.flow(train_generator),\n",
    "                    steps_per_epoch=steps_per_epoch,\n",
    "                    epochs=epochs,\n",
    "                    validation_data=validation_generator,\n",
    "                    validation_steps=validation_steps)"
   ]
  },
  {
   "cell_type": "code",
   "execution_count": 20,
   "metadata": {},
   "outputs": [
    {
     "data": {
      "image/png": "[encoded data removed]",
      "text/plain": [
       "<Figure size 432x288 with 1 Axes>"
      ]
     },
     "metadata": {
      "needs_background": "light"
     },
     "output_type": "display_data"
    },
    {
     "data": {
      "image/png": "[encoded data removed]",
      "text/plain": [
       "<Figure size 432x288 with 1 Axes>"
      ]
     },
     "metadata": {
      "needs_background": "light"
     },
     "output_type": "display_data"
    },
    {
     "data": {
      "text/plain": [
       "<Figure size 432x288 with 0 Axes>"
      ]
     },
     "metadata": {},
     "output_type": "display_data"
    }
   ],
   "source": [
    "plt.plot(hist3.history['loss'], label='train loss')\n",
    "plt.plot(hist3.history['val_loss'], label='val loss')\n",
    "plt.legend()\n",
    "plt.show()\n",
    "plt.savefig('LossVal_loss')\n",
    "\n",
    "# plot the accuracy\n",
    "plt.plot(hist3.history['accuracy'], label='train acc')\n",
    "plt.plot(hist3.history['val_accuracy'], label='val acc')\n",
    "plt.legend()\n",
    "plt.show()\n",
    "plt.savefig('AccVal_acc')"
   ]
  },
  {
   "cell_type": "code",
   "execution_count": 27,
   "metadata": {},
   "outputs": [
    {
     "name": "stdout",
     "output_type": "stream",
     "text": [
      "INFO:tensorflow:Assets written to: MODEL3.h1\\assets\n"
     ]
    }
   ],
   "source": [
    "LeNet.save('MODEL3.h1')"
   ]
  },
  {
   "cell_type": "code",
   "execution_count": 29,
   "metadata": {},
   "outputs": [],
   "source": [
    "from tensorflow.keras.models import load_model"
   ]
  },
  {
   "cell_type": "code",
   "execution_count": 71,
   "metadata": {},
   "outputs": [],
   "source": [
    "count=0"
   ]
  },
  {
   "cell_type": "code",
   "execution_count": 72,
   "metadata": {},
   "outputs": [
    {
     "name": "stdout",
     "output_type": "stream",
     "text": [
      "WARNING:tensorflow:5 out of the last 13757 calls to <function Model.make_predict_function.<locals>.predict_function at 0x000001D744596160> triggered tf.function retracing. Tracing is expensive and the excessive number of tracings could be due to (1) creating @tf.function repeatedly in a loop, (2) passing tensors with different shapes, (3) passing Python objects instead of tensors. For (1), please define your @tf.function outside of the loop. For (2), @tf.function has experimental_relax_shapes=True option that relaxes argument shapes that can avoid unnecessary retracing. For (3), please refer to https://www.tensorflow.org/tutorials/customization/performance#python_or_tensor_args and https://www.tensorflow.org/api_docs/python/tf/function for  more details.\n",
      "WARNING:tensorflow:6 out of the last 13758 calls to <function Model.make_predict_function.<locals>.predict_function at 0x000001D7B26031F0> triggered tf.function retracing. Tracing is expensive and the excessive number of tracings could be due to (1) creating @tf.function repeatedly in a loop, (2) passing tensors with different shapes, (3) passing Python objects instead of tensors. For (1), please define your @tf.function outside of the loop. For (2), @tf.function has experimental_relax_shapes=True option that relaxes argument shapes that can avoid unnecessary retracing. For (3), please refer to https://www.tensorflow.org/tutorials/customization/performance#python_or_tensor_args and https://www.tensorflow.org/api_docs/python/tf/function for  more details.\n"
     ]
    }
   ],
   "source": [
    "#model ensembling\n",
    "model1=load_model('MODEL1.h1')\n",
    "model2=load_model('MODEL2.h1')\n",
    "model3=load_model('MODEL3.h1')\n",
    "for category in CATEGORIES:\n",
    "        label=CATEGORIES.index(category)\n",
    "        path=os.path.join(valid,category)\n",
    "        for img_file in os.listdir(path):\n",
    "            img=cv.imread(os.path.join(path,img_file),1)\n",
    "            img=cv.cvtColor(img,cv.COLOR_BGR2RGB)\n",
    "            img=cv.resize(img,(100,100))  \n",
    "            if img is not None:\n",
    "               test_img=image.img_to_array(img)\n",
    "               test_img=np.expand_dims(test_img,axis=0)\n",
    "               result1=model1.predict(test_img)\n",
    "               a=result1.argmax()\n",
    "               result2=model2.predict(test_img)\n",
    "               b=result2.argmax()\n",
    "               result3=model3.predict(test_img)\n",
    "               c=result3.argmax()\n",
    "               if(a==b or b==c or c==a or a==b==c):#max voting\n",
    "                  count=count+1"
   ]
  },
  {
   "cell_type": "code",
   "execution_count": 77,
   "metadata": {},
   "outputs": [
    {
     "data": {
      "text/plain": [
       "4209"
      ]
     },
     "execution_count": 77,
     "metadata": {},
     "output_type": "execute_result"
    }
   ],
   "source": [
    "#correct predictions out 4585 test data set\n",
    "count"
   ]
  },
  {
   "cell_type": "code",
   "execution_count": 28,
   "metadata": {},
   "outputs": [],
   "source": [
    "#for i in range(len(y_test)):\n",
    "    #if(y_test[i]==y_pred[i]):\n",
    "        #count1=count1+1;"
   ]
  },
  {
   "cell_type": "code",
   "execution_count": 84,
   "metadata": {},
   "outputs": [],
   "source": [
    "ensemble_acc= count*100/4585"
   ]
  },
  {
   "cell_type": "code",
   "execution_count": 85,
   "metadata": {},
   "outputs": [
    {
     "data": {
      "text/plain": [
       "91.79934569247547"
      ]
     },
     "execution_count": 85,
     "metadata": {},
     "output_type": "execute_result"
    }
   ],
   "source": [
    "ensemble_acc"
   ]
  },
  {
   "cell_type": "code",
   "execution_count": null,
   "metadata": {},
   "outputs": [],
   "source": []
  }
 ],
 "metadata": {
  "kernelspec": {
   "display_name": "Python 3",
   "language": "python",
   "name": "python3"
  },
  "language_info": {
   "codemirror_mode": {
    "name": "ipython",
    "version": 3
   },
   "file_extension": ".py",
   "mimetype": "text/x-python",
   "name": "python",
   "nbconvert_exporter": "python",
   "pygments_lexer": "ipython3",
   "version": "3.8.5"
  }
 },
 "nbformat": 4,
 "nbformat_minor": 4
}
